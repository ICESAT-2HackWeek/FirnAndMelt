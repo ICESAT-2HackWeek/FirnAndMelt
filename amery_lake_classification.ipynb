{
 "cells": [
  {
   "cell_type": "code",
   "execution_count": 6,
   "metadata": {},
   "outputs": [
    {
     "name": "stdout",
     "output_type": "stream",
     "text": [
      "The autoreload extension is already loaded. To reload it, use:\n",
      "  %reload_ext autoreload\n"
     ]
    }
   ],
   "source": [
    "## Imports\n",
    "\n",
    "# utility modules\n",
    "import glob\n",
    "import os\n",
    "import sys\n",
    "import re\n",
    "import rasterio as rio\n",
    "\n",
    "\n",
    "# the usual suspects:\n",
    "import numpy as np\n",
    "import matplotlib.pyplot as plt\n",
    "import pandas as pd\n",
    "import geopandas as gpd\n",
    "\n",
    "# specialty modules\n",
    "import h5py\n",
    "import pyproj\n",
    "import iris\n",
    "\n",
    "# run matplotlib in 'widget' mode\n",
    "%matplotlib widget\n",
    "%load_ext autoreload\n",
    "%autoreload 2"
   ]
  },
  {
   "cell_type": "code",
   "execution_count": 7,
   "metadata": {},
   "outputs": [
    {
     "name": "stdout",
     "output_type": "stream",
     "text": [
      "/home/jovyan\n"
     ]
    }
   ],
   "source": [
    "cd"
   ]
  },
  {
   "cell_type": "code",
   "execution_count": 8,
   "metadata": {},
   "outputs": [
    {
     "name": "stdout",
     "output_type": "stream",
     "text": [
      "/home/jovyan/Land_Ice_Applications/readers\n"
     ]
    }
   ],
   "source": [
    "cd Land_Ice_Applications/readers"
   ]
  },
  {
   "cell_type": "code",
   "execution_count": 9,
   "metadata": {},
   "outputs": [],
   "source": [
    "from read_HDF5_ATL03 import read_HDF5_ATL03\n",
    "from get_ATL03_x_atc import get_ATL03_x_atc"
   ]
  },
  {
   "cell_type": "markdown",
   "metadata": {},
   "source": [
    "### 1.2.2 Data used\n",
    "Data for this tutorial are stored in a shared drive, accessible to all tutorial participants.  If you're getting data for yourself, you'll need to put it in a consistent place, and change this cell to match your directory."
   ]
  },
  {
   "cell_type": "code",
   "execution_count": 6,
   "metadata": {},
   "outputs": [],
   "source": [
    "data_root='shared/FirnAndMelt/ATL03/Antarctica/'"
   ]
  },
  {
   "cell_type": "code",
   "execution_count": 7,
   "metadata": {},
   "outputs": [],
   "source": [
    "import cartopy.crs as ccrs\n",
    "from rasterio import plot"
   ]
  },
  {
   "cell_type": "code",
   "execution_count": 8,
   "metadata": {},
   "outputs": [
    {
     "name": "stdout",
     "output_type": "stream",
     "text": [
      "/home/jovyan\n"
     ]
    }
   ],
   "source": [
    "cd"
   ]
  },
  {
   "cell_type": "code",
   "execution_count": 9,
   "metadata": {},
   "outputs": [
    {
     "name": "stdout",
     "output_type": "stream",
     "text": [
      "/home/jovyan/FirnAndMelt\n"
     ]
    }
   ],
   "source": [
    "cd FirnAndMelt/"
   ]
  },
  {
   "cell_type": "code",
   "execution_count": 10,
   "metadata": {},
   "outputs": [],
   "source": [
    "landsat8 = ('LC08_L1GT_127111_20200120_20200128_01_T2_All_Masks.tif')\n"
   ]
  },
  {
   "cell_type": "code",
   "execution_count": 11,
   "metadata": {},
   "outputs": [],
   "source": [
    "#This is rasterio Dataset object\n",
    "l8_src = rio.open(landsat8)"
   ]
  },
  {
   "cell_type": "code",
   "execution_count": 12,
   "metadata": {},
   "outputs": [
    {
     "data": {
      "text/plain": [
       "{'driver': 'GTiff', 'dtype': 'float64', 'nodata': None, 'width': 7291, 'height': 7381, 'count': 1, 'crs': CRS.from_epsg(3031), 'transform': Affine(30.0, 0.0, 1711785.0,\n",
       "       0.0, -30.0, 802515.0), 'blockxsize': 736, 'blockysize': 752, 'tiled': True, 'compress': 'packbits', 'interleave': 'band'}"
      ]
     },
     "execution_count": 12,
     "metadata": {},
     "output_type": "execute_result"
    }
   ],
   "source": [
    "l8_src.profile"
   ]
  },
  {
   "cell_type": "code",
   "execution_count": 13,
   "metadata": {},
   "outputs": [],
   "source": [
    "l8_extent = rio.plot.plotting_extent(l8_src)"
   ]
  },
  {
   "cell_type": "code",
   "execution_count": 14,
   "metadata": {},
   "outputs": [],
   "source": [
    "l8_m = l8_src.read(1, masked=True)"
   ]
  },
  {
   "cell_type": "code",
   "execution_count": 15,
   "metadata": {},
   "outputs": [
    {
     "data": {
      "application/vnd.jupyter.widget-view+json": {
       "model_id": "8e39ea8521284817bf2013ed19850b54",
       "version_major": 2,
       "version_minor": 0
      },
      "text/plain": [
       "Canvas(toolbar=Toolbar(toolitems=[('Home', 'Reset original view', 'home', 'home'), ('Back', 'Back to previous …"
      ]
     },
     "metadata": {},
     "output_type": "display_data"
    }
   ],
   "source": [
    "f, ax = plt.subplots()\n",
    "ax.imshow(l8_m, extent=l8_extent);"
   ]
  },
  {
   "cell_type": "markdown",
   "metadata": {},
   "source": [
    "I've  also added a Landsat 8 image from 2020-01-20 that overlaps the area of interest on the Amery Ice Shelf. I've used Moussavi et al (2020)'s automated lake detection algorithm to identify lake pixels. "
   ]
  },
  {
   "cell_type": "code",
   "execution_count": 16,
   "metadata": {},
   "outputs": [],
   "source": [
    "%matplotlib widget\n",
    "L8lakes = l8_m==1\n"
   ]
  },
  {
   "cell_type": "markdown",
   "metadata": {},
   "source": [
    "# 2. Data in along-track format\n",
    "\n",
    "# 2.1 ATL03 elevations\n",
    "\n",
    "Before we start looking at the ATL06 data we've downloaded, let's have a look at some of the ATL03 data that were used to make them.  One of the source ATL03 files is in the shared folder, and we'll read it with Tyler Sutterley's excellent \"read_HDF5_ATL03\" function."
   ]
  },
  {
   "cell_type": "code",
   "execution_count": 10,
   "metadata": {},
   "outputs": [
    {
     "name": "stdout",
     "output_type": "stream",
     "text": [
      "/home/jovyan\n"
     ]
    }
   ],
   "source": [
    "cd "
   ]
  },
  {
   "cell_type": "code",
   "execution_count": 11,
   "metadata": {},
   "outputs": [
    {
     "name": "stdout",
     "output_type": "stream",
     "text": [
      "/srv/shared/FirnAndMelt/ATL03/Antarctica\n"
     ]
    }
   ],
   "source": [
    "cd 'shared/FirnAndMelt/ATL03/Antarctica/'"
   ]
  },
  {
   "cell_type": "code",
   "execution_count": 12,
   "metadata": {},
   "outputs": [],
   "source": [
    "# read the data:\n",
    "#rgt=\"0027\"\n",
    "#cycle=\"06\"\n",
    "# read the IS2 data with Tyler's ATL03 reader:\n",
    "ATL03_file=  'processed_ATL03_20200203123745_05920612_003_01.h5'\n",
    "IS2_atl03_mds, IS2_atl03_attrs, IS2_atl03_beams =read_HDF5_ATL03(ATL03_file)"
   ]
  },
  {
   "cell_type": "markdown",
   "metadata": {},
   "source": [
    "The data are returned in a set of dictionaries that mimic the structure of an ATL03 file.  To help visualize the data, we're going to calculate an along-track coordinate for every photon in the cloud (x_atc).  This is a slightly complex job, and there's a helper function in the readers directory that you can look at if you want the details."
   ]
  },
  {
   "cell_type": "code",
   "execution_count": 13,
   "metadata": {},
   "outputs": [],
   "source": [
    "# add x_atc to the ATL03 data structure (this function adds to the LS2_ATL03_mds dictionary)\n",
    "get_ATL03_x_atc(IS2_atl03_mds, IS2_atl03_attrs, IS2_atl03_beams)"
   ]
  },
  {
   "cell_type": "code",
   "execution_count": 14,
   "metadata": {},
   "outputs": [
    {
     "data": {
      "text/plain": [
       "{'heights': {'delta_time': array([65968768.88493214, 65968768.88493214, 65968768.88493214, ...,\n",
       "         65968780.56383242, 65968780.56383242, 65968780.56383242]),\n",
       "  'dist_ph_across': array([-52.62856 , -52.638065, -52.626698, ..., -59.818478, -59.819874,\n",
       "         -59.857765], dtype=float32),\n",
       "  'dist_ph_along': array([ 0.48488307,  0.4367691 ,  0.49435243, ..., 19.510641  ,\n",
       "         19.503958  , 19.32308   ], dtype=float32),\n",
       "  'h_ph': array([197.02295, 179.9768 , 200.36516, ..., 104.63813, 102.27638,\n",
       "          38.30188], dtype=float32),\n",
       "  'lat_ph': array([-72.49992335, -72.49992377, -72.49992327, ..., -71.76736058,\n",
       "         -71.76736064, -71.7673622 ]),\n",
       "  'lon_ph': array([68.32057214, 68.32057261, 68.32057205, ..., 67.99997189,\n",
       "         67.99997195, 67.99997371]),\n",
       "  'pce_mframe_cnt': array([72830108, 72830108, 72830108, ..., 72830692, 72830692, 72830692],\n",
       "        dtype=uint32),\n",
       "  'ph_id_channel': array([90, 87, 26, ..., 24, 35, 28], dtype=uint8),\n",
       "  'ph_id_count': array([1, 1, 1, ..., 2, 2, 2], dtype=int8),\n",
       "  'ph_id_pulse': array([200, 200, 200, ..., 189, 189, 189], dtype=uint8),\n",
       "  'signal_conf_ph': array([[ 0, -1, -1,  0,  0],\n",
       "         [ 0, -1, -1,  0,  0],\n",
       "         [ 0, -1, -1,  0,  0],\n",
       "         ...,\n",
       "         [ 4, -1, -1,  4,  4],\n",
       "         [ 2, -1, -1,  2,  2],\n",
       "         [ 0, -1, -1,  0,  0]], dtype=int8),\n",
       "  'x_atc': array([32053242., 32053242., 32053242., ..., 32135722., 32135722.,\n",
       "         32135722.], dtype=float32),\n",
       "  'y_atc': array([-52.62856 , -52.638065, -52.626698, ..., -59.818478, -59.819874,\n",
       "         -59.857765], dtype=float32)},\n",
       " 'geolocation': {'altitude_sc': array([509942.11266141, 509942.07212435, 509942.03158702, ...,\n",
       "         509769.90879279, 509769.86670261, 509769.82310901]),\n",
       "  'bounce_time_offset': array([0.0017006 , 0.0017006 , 0.0017006 , ..., 0.00170007, 0.00170007,\n",
       "         0.00170007], dtype=float32),\n",
       "  'delta_time': array([65968768.88633215, 65968768.88913215, 65968768.89193214, ...,\n",
       "         65968780.55683242, 65968780.55963242, 65968780.56253241]),\n",
       "  'full_sat_fract': array([0., 0., 0., ..., 0., 0., 0.], dtype=float32),\n",
       "  'near_sat_fract': array([0.        , 0.        , 0.03571429, ..., 0.        , 0.        ,\n",
       "         0.        ], dtype=float32),\n",
       "  'neutat_delay_derivative': array([-1.06883476e-07, -1.06883391e-07, -1.06883306e-07, ...,\n",
       "         -1.06561735e-07, -1.06561664e-07, -1.06561593e-07], dtype=float32),\n",
       "  'neutat_delay_total': array([2.3348196, 2.3347614, 2.3345993, ..., 2.3429682, 2.342971 ,\n",
       "         2.343011 ], dtype=float32),\n",
       "  'neutat_ht': array([118.74443 , 118.93941 , 119.483055, ..., 102.67166 , 102.66571 ,\n",
       "         102.53732 ], dtype=float32),\n",
       "  'ph_index_beg': array([      1,     387,     762, ..., 1265144, 1265449, 1265748]),\n",
       "  'podppd_flag': array([0, 0, 0, ..., 0, 0, 0], dtype=int8),\n",
       "  'range_bias_corr': array([3.7452, 3.7452, 3.7452, ..., 3.7452, 3.7452, 3.7452], dtype=float32),\n",
       "  'ref_azimuth': array([-0.32863894, -0.32854673, -0.32846195, ..., -0.33657554,\n",
       "         -0.3365333 , -0.33648348], dtype=float32),\n",
       "  'ref_elev': array([1.5678929, 1.567893 , 1.5678933, ..., 1.5678822, 1.5678822,\n",
       "         1.5678823], dtype=float32),\n",
       "  'reference_photon_index': array([202, 197, 210, ..., 160, 143, 186], dtype=int32),\n",
       "  'reference_photon_lat': array([-72.49983737, -72.49966152, -72.49948559, ..., -71.76780023,\n",
       "         -71.76762458, -71.76744239]),\n",
       "  'reference_photon_lon': array([68.3205324 , 68.32044854, 68.32036492, ..., 68.00016321,\n",
       "         68.00008708, 68.00000767]),\n",
       "  'segment_dist_x': array([32053241.340338  , 32053261.24814287, 32053281.15594798, ...,\n",
       "         32135661.63872116, 32135681.54749169, 32135701.45626245]),\n",
       "  'segment_id': array([1602295, 1602296, 1602297, ..., 1606435, 1606436, 1606437],\n",
       "        dtype=int32),\n",
       "  'segment_length': array([19.90780449, 19.90780449, 19.90780449, ..., 19.90876961,\n",
       "         19.90877151, 19.90877151]),\n",
       "  'segment_ph_cnt': array([386, 375, 416, ..., 305, 299, 343], dtype=int32),\n",
       "  'sigma_across': array([20., 20., 20., ..., 20., 20., 20.], dtype=float32),\n",
       "  'sigma_along': array([20., 20., 20., ..., 20., 20., 20.], dtype=float32),\n",
       "  'sigma_h': array([0.3, 0.3, 0.3, ..., 0.3, 0.3, 0.3], dtype=float32),\n",
       "  'sigma_lat': array([0.00018, 0.00018, 0.00018, ..., 0.00018, 0.00018, 0.00018],\n",
       "        dtype=float32),\n",
       "  'sigma_lon': array([0.00017488, 0.00017489, 0.00017489, ..., 0.00015908, 0.00015906,\n",
       "         0.00015905], dtype=float32),\n",
       "  'solar_azimuth': array([279.49292, 279.49292, 279.49292, ..., 279.48718, 279.48718,\n",
       "         279.48718], dtype=float32),\n",
       "  'solar_elevation': array([20.41159 , 20.411642, 20.411692, ..., 20.614027, 20.614075,\n",
       "         20.614126], dtype=float32),\n",
       "  'surf_type': array([[1, 0, 0, 1, 1],\n",
       "         [1, 0, 0, 1, 1],\n",
       "         [1, 0, 0, 1, 1],\n",
       "         ...,\n",
       "         [1, 0, 0, 1, 1],\n",
       "         [1, 0, 0, 1, 1],\n",
       "         [1, 0, 0, 1, 1]], dtype=int8),\n",
       "  'tx_pulse_energy': array([9.0526933e-05, 9.0530077e-05, 9.0533213e-05, ..., 9.1212045e-05,\n",
       "         9.1212045e-05, 9.1212045e-05], dtype=float32),\n",
       "  'tx_pulse_skew_est': array([-1.5706787e-10, -1.6062883e-10, -1.5010004e-10, ...,\n",
       "         -9.7905122e-11, -7.7717381e-11, -1.5779485e-10], dtype=float32),\n",
       "  'tx_pulse_width_lower': array([1.8346297e-09, 1.7477193e-09, 1.8344551e-09, ..., 1.7407832e-09,\n",
       "         1.8363765e-09, 1.8498142e-09], dtype=float32),\n",
       "  'tx_pulse_width_upper': array([8.7506791e-10, 8.6509144e-10, 8.6883439e-10, ..., 8.4879132e-10,\n",
       "         6.8408407e-10, 8.6877722e-10], dtype=float32),\n",
       "  'velocity_sc': array([[-953.176   , 6996.255   ,  -13.405674],\n",
       "         [-953.16956 , 6996.256   ,  -13.405799],\n",
       "         [-953.163   , 6996.257   ,  -13.405923],\n",
       "         ...,\n",
       "         [-927.331   , 7000.108   ,  -13.919611],\n",
       "         [-927.32513 , 7000.109   ,  -13.919733],\n",
       "         [-927.31903 , 7000.11    ,  -13.91986 ]], dtype=float32)},\n",
       " 'geophys_corr': {'dac': array([8.1924066e-02, 8.1919484e-02, 8.1914872e-02, ..., 3.4028235e+38,\n",
       "         3.4028235e+38, 3.4028235e+38], dtype=float32),\n",
       "  'delta_time': array([65968664.77652963, 65968664.77932962, 65968664.78212962, ...,\n",
       "         65969125.6191603 , 65969125.62197898, 65969125.62479766]),\n",
       "  'dem_flag': array([4, 4, 4, ..., 0, 0, 0], dtype=int8),\n",
       "  'dem_h': array([3.6677893e+03, 3.6675244e+03, 3.6672502e+03, ..., 3.4028235e+38,\n",
       "         3.4028235e+38, 3.4028235e+38], dtype=float32),\n",
       "  'geoid': array([6.7427101e+00, 6.7423768e+00, 6.7420411e+00, ..., 3.4028235e+38,\n",
       "         3.4028235e+38, 3.4028235e+38], dtype=float32),\n",
       "  'tide_earth': array([-1.3229278e-01, -1.3229288e-01, -1.3229297e-01, ...,\n",
       "          3.4028235e+38,  3.4028235e+38,  3.4028235e+38], dtype=float32),\n",
       "  'tide_equilibrium': array([3.4028235e+38, 3.4028235e+38, 3.4028235e+38, ..., 3.4028235e+38,\n",
       "         3.4028235e+38, 3.4028235e+38], dtype=float32),\n",
       "  'tide_load': array([-5.4375962e-03, -5.4376638e-03, -5.4377317e-03, ...,\n",
       "          3.4028235e+38,  3.4028235e+38,  3.4028235e+38], dtype=float32),\n",
       "  'tide_oc_pole': array([4.5814013e-05, 4.5816385e-05, 4.5818771e-05, ..., 3.4028235e+38,\n",
       "         3.4028235e+38, 3.4028235e+38], dtype=float32),\n",
       "  'tide_ocean': array([3.4028235e+38, 3.4028235e+38, 3.4028235e+38, ..., 3.4028235e+38,\n",
       "         3.4028235e+38, 3.4028235e+38], dtype=float32),\n",
       "  'tide_pole': array([-1.4988875e-03, -1.4989099e-03, -1.4989324e-03, ...,\n",
       "          3.4028235e+38,  3.4028235e+38,  3.4028235e+38], dtype=float32)}}"
      ]
     },
     "execution_count": 14,
     "metadata": {},
     "output_type": "execute_result"
    }
   ],
   "source": [
    "IS2_atl03_mds['gt2r']"
   ]
  },
  {
   "cell_type": "code",
   "execution_count": 15,
   "metadata": {},
   "outputs": [
    {
     "data": {
      "text/html": [
       "<div>\n",
       "<style scoped>\n",
       "    .dataframe tbody tr th:only-of-type {\n",
       "        vertical-align: middle;\n",
       "    }\n",
       "\n",
       "    .dataframe tbody tr th {\n",
       "        vertical-align: top;\n",
       "    }\n",
       "\n",
       "    .dataframe thead th {\n",
       "        text-align: right;\n",
       "    }\n",
       "</style>\n",
       "<table border=\"1\" class=\"dataframe\">\n",
       "  <thead>\n",
       "    <tr style=\"text-align: right;\">\n",
       "      <th></th>\n",
       "      <th>height</th>\n",
       "      <th>lat</th>\n",
       "      <th>lon</th>\n",
       "      <th>distance_along</th>\n",
       "      <th>signal_conf</th>\n",
       "    </tr>\n",
       "  </thead>\n",
       "  <tbody>\n",
       "    <tr>\n",
       "      <th>6.596877e+07</th>\n",
       "      <td>197.022949</td>\n",
       "      <td>-72.499923</td>\n",
       "      <td>68.320572</td>\n",
       "      <td>0.484883</td>\n",
       "      <td>False</td>\n",
       "    </tr>\n",
       "    <tr>\n",
       "      <th>6.596877e+07</th>\n",
       "      <td>179.976807</td>\n",
       "      <td>-72.499924</td>\n",
       "      <td>68.320573</td>\n",
       "      <td>0.436769</td>\n",
       "      <td>False</td>\n",
       "    </tr>\n",
       "    <tr>\n",
       "      <th>6.596877e+07</th>\n",
       "      <td>200.365158</td>\n",
       "      <td>-72.499923</td>\n",
       "      <td>68.320572</td>\n",
       "      <td>0.494352</td>\n",
       "      <td>False</td>\n",
       "    </tr>\n",
       "    <tr>\n",
       "      <th>6.596877e+07</th>\n",
       "      <td>172.272217</td>\n",
       "      <td>-72.499924</td>\n",
       "      <td>68.320573</td>\n",
       "      <td>0.414983</td>\n",
       "      <td>False</td>\n",
       "    </tr>\n",
       "    <tr>\n",
       "      <th>6.596877e+07</th>\n",
       "      <td>167.983429</td>\n",
       "      <td>-72.499924</td>\n",
       "      <td>68.320573</td>\n",
       "      <td>0.402877</td>\n",
       "      <td>False</td>\n",
       "    </tr>\n",
       "    <tr>\n",
       "      <th>...</th>\n",
       "      <td>...</td>\n",
       "      <td>...</td>\n",
       "      <td>...</td>\n",
       "      <td>...</td>\n",
       "      <td>...</td>\n",
       "    </tr>\n",
       "    <tr>\n",
       "      <th>6.596878e+07</th>\n",
       "      <td>104.653831</td>\n",
       "      <td>-71.767361</td>\n",
       "      <td>67.999972</td>\n",
       "      <td>19.510685</td>\n",
       "      <td>True</td>\n",
       "    </tr>\n",
       "    <tr>\n",
       "      <th>6.596878e+07</th>\n",
       "      <td>102.633972</td>\n",
       "      <td>-71.767361</td>\n",
       "      <td>67.999972</td>\n",
       "      <td>19.504976</td>\n",
       "      <td>True</td>\n",
       "    </tr>\n",
       "    <tr>\n",
       "      <th>6.596878e+07</th>\n",
       "      <td>104.638130</td>\n",
       "      <td>-71.767361</td>\n",
       "      <td>67.999972</td>\n",
       "      <td>19.510641</td>\n",
       "      <td>True</td>\n",
       "    </tr>\n",
       "    <tr>\n",
       "      <th>6.596878e+07</th>\n",
       "      <td>102.276382</td>\n",
       "      <td>-71.767361</td>\n",
       "      <td>67.999972</td>\n",
       "      <td>19.503958</td>\n",
       "      <td>True</td>\n",
       "    </tr>\n",
       "    <tr>\n",
       "      <th>6.596878e+07</th>\n",
       "      <td>38.301880</td>\n",
       "      <td>-71.767362</td>\n",
       "      <td>67.999974</td>\n",
       "      <td>19.323080</td>\n",
       "      <td>False</td>\n",
       "    </tr>\n",
       "  </tbody>\n",
       "</table>\n",
       "<p>1266090 rows × 5 columns</p>\n",
       "</div>"
      ],
      "text/plain": [
       "                  height        lat        lon  distance_along  signal_conf\n",
       "6.596877e+07  197.022949 -72.499923  68.320572        0.484883        False\n",
       "6.596877e+07  179.976807 -72.499924  68.320573        0.436769        False\n",
       "6.596877e+07  200.365158 -72.499923  68.320572        0.494352        False\n",
       "6.596877e+07  172.272217 -72.499924  68.320573        0.414983        False\n",
       "6.596877e+07  167.983429 -72.499924  68.320573        0.402877        False\n",
       "...                  ...        ...        ...             ...          ...\n",
       "6.596878e+07  104.653831 -71.767361  67.999972       19.510685         True\n",
       "6.596878e+07  102.633972 -71.767361  67.999972       19.504976         True\n",
       "6.596878e+07  104.638130 -71.767361  67.999972       19.510641         True\n",
       "6.596878e+07  102.276382 -71.767361  67.999972       19.503958         True\n",
       "6.596878e+07   38.301880 -71.767362  67.999974       19.323080        False\n",
       "\n",
       "[1266090 rows x 5 columns]"
      ]
     },
     "execution_count": 15,
     "metadata": {},
     "output_type": "execute_result"
    }
   ],
   "source": [
    "df = pd.DataFrame(data={'height':IS2_atl03_mds['gt2r']['heights']['h_ph'],\n",
    "                        'lat':  IS2_atl03_mds['gt2r']['heights']['lat_ph'],\n",
    "                        'lon':  IS2_atl03_mds['gt2r']['heights']['lon_ph'],\n",
    "                        'distance_along': IS2_atl03_mds['gt2r']['heights']['dist_ph_along'],\n",
    "                        'signal_conf': IS2_atl03_mds['gt2r']['heights']['signal_conf_ph'][:,3] >= 2\n",
    "                       },\n",
    "                  index=IS2_atl03_mds['gt2r']['heights']['delta_time'])\n",
    "df"
   ]
  },
  {
   "cell_type": "markdown",
   "metadata": {},
   "source": [
    "### 2.1.1 Plotting ATL03 photons\n",
    "Now let's plot the ATL03 photons.  We'll plot all the photon heights as small black dots, then plot the photons that the ATL03 land-ice signal finder designates as surface (with low, medium, or high confidence) in green.  "
   ]
  },
  {
   "cell_type": "code",
   "execution_count": 26,
   "metadata": {},
   "outputs": [
    {
     "data": {
      "application/vnd.jupyter.widget-view+json": {
       "model_id": "c7c7116d12c24ff59cd2f8928baf8839",
       "version_major": 2,
       "version_minor": 0
      },
      "text/plain": [
       "Canvas(toolbar=Toolbar(toolitems=[('Home', 'Reset original view', 'home', 'home'), ('Back', 'Back to previous …"
      ]
     },
     "metadata": {},
     "output_type": "display_data"
    }
   ],
   "source": [
    "#-- select the 2l beam from ATL03\n",
    "D3 = IS2_atl03_mds['gt2r']\n",
    "\n",
    "#-- create scatter plot of photon data (e.g., photon elevation vs x_atc)\n",
    "fig=plt.figure(figsize=(6,4))\n",
    "ax = fig.add_subplot(111)\n",
    "#ax.plot(D3['heights']['lat_ph'], D3['heights']['h_ph'],'k.',markersize=0.25, label='all photons')\n",
    "LMH=D3['heights']['signal_conf_ph'][:,3] >= 2\n",
    "ax.plot(D3['heights']['lat_ph'][LMH], D3['heights']['h_ph'][LMH],'g.',markersize=0.5, label='flagged photons')\n",
    "h_leg=ax.legend()\n",
    "\n",
    "ax.set_xlabel('x_atc, m')\n",
    "ax.set_ylabel('h, m')\n",
    "plt.show()"
   ]
  },
  {
   "cell_type": "code",
   "execution_count": 17,
   "metadata": {},
   "outputs": [],
   "source": [
    "dfg  = gpd.GeoDataFrame(df, geometry=gpd.points_from_xy(df['lon'], df['lat']), crs='EPSG:4326')"
   ]
  },
  {
   "cell_type": "code",
   "execution_count": 25,
   "metadata": {},
   "outputs": [],
   "source": [
    "dfg_PS = dfg.to_crs(l8_src.crs)"
   ]
  },
  {
   "cell_type": "code",
   "execution_count": 26,
   "metadata": {},
   "outputs": [],
   "source": [
    "atl03_coord = [(pt.x, pt.y) for pt in dfg_PS.geometry]\n"
   ]
  },
  {
   "cell_type": "code",
   "execution_count": 27,
   "metadata": {},
   "outputs": [],
   "source": [
    "atl03_m_sample = l8_src.sample(atl03_coord)\n"
   ]
  },
  {
   "cell_type": "code",
   "execution_count": 28,
   "metadata": {},
   "outputs": [],
   "source": [
    "ph_elev = np.fromiter(atl03_m_sample, dtype=l8_m.dtype)"
   ]
  },
  {
   "cell_type": "code",
   "execution_count": 29,
   "metadata": {},
   "outputs": [],
   "source": [
    "l8_elev_ma = np.ma.masked_equal(ph_elev, l8_src.nodata)\n"
   ]
  },
  {
   "cell_type": "code",
   "execution_count": 30,
   "metadata": {},
   "outputs": [],
   "source": [
    "#add classification to photon data\n",
    "dfg_PS['l8_classification'] = l8_elev_ma.astype(float).filled(np.nan)"
   ]
  },
  {
   "cell_type": "code",
   "execution_count": 31,
   "metadata": {},
   "outputs": [],
   "source": [
    "dfg_PS['lake'] = dfg_PS['l8_classification']==1"
   ]
  },
  {
   "cell_type": "code",
   "execution_count": 32,
   "metadata": {},
   "outputs": [],
   "source": [
    "dfg_sel = dfg_PS[dfg_PS['signal_conf']==True]"
   ]
  },
  {
   "cell_type": "code",
   "execution_count": 33,
   "metadata": {
    "jupyter": {
     "source_hidden": true
    }
   },
   "outputs": [
    {
     "data": {
      "application/vnd.jupyter.widget-view+json": {
       "model_id": "3da3c28f1df7498880d99b24bdd0eae4",
       "version_major": 2,
       "version_minor": 0
      },
      "text/plain": [
       "Canvas(toolbar=Toolbar(toolitems=[('Home', 'Reset original view', 'home', 'home'), ('Back', 'Back to previous …"
      ]
     },
     "metadata": {},
     "output_type": "display_data"
    }
   ],
   "source": [
    "f, ax = plt.subplots()\n",
    "\n",
    "ax.scatter(x=dfg_sel['lat'],y=dfg_sel['height'],c=dfg_sel['lake'], marker='.');"
   ]
  },
  {
   "cell_type": "code",
   "execution_count": 35,
   "metadata": {},
   "outputs": [
    {
     "data": {
      "application/vnd.jupyter.widget-view+json": {
       "model_id": "82b2f8c4fddb4d9ea63380451644dcfc",
       "version_major": 2,
       "version_minor": 0
      },
      "text/plain": [
       "Canvas(toolbar=Toolbar(toolitems=[('Home', 'Reset original view', 'home', 'home'), ('Back', 'Back to previous …"
      ]
     },
     "metadata": {},
     "output_type": "display_data"
    }
   ],
   "source": [
    "bimodal_coeff =  (dfg_sel['height'].rolling(100).skew()**2+1)/dfg_sel['height'].rolling(100).kurt()\n",
    "\n",
    "fig, ax  = plt.subplots(nrows=4)\n",
    "ax[0].plot(dfg_sel['lat'].rolling(100).mean(),dfg_sel['height'].rolling(100).var())\n",
    "ax[1].plot(dfg_sel['lat'].rolling(100).mean(),bimodal_coeff)\n",
    "ax[2].plot(dfg_sel['lat'].rolling(100).mean(),dfg_sel['height'].rolling(100).())\n",
    "\n",
    "ax[3].plot(dfg_sel['lat'],dfg_sel['height']);"
   ]
  },
  {
   "cell_type": "code",
   "execution_count": 90,
   "metadata": {},
   "outputs": [],
   "source": [
    "from sklearn.cluster import KMeans\n",
    "import sklearn.metrics \n",
    "from sklearn.metrics import pairwise_distances\n"
   ]
  },
  {
   "cell_type": "code",
   "execution_count": 109,
   "metadata": {},
   "outputs": [
    {
     "ename": "TypeError",
     "evalue": "only size-1 arrays can be converted to Python scalars",
     "output_type": "error",
     "traceback": [
      "\u001b[0;31m---------------------------------------------------------------------------\u001b[0m",
      "\u001b[0;31mTypeError\u001b[0m                                 Traceback (most recent call last)",
      "\u001b[0;32m<ipython-input-109-8b5ea0477b1e>\u001b[0m in \u001b[0;36m<module>\u001b[0;34m\u001b[0m\n\u001b[1;32m      9\u001b[0m \u001b[0mcluster_score\u001b[0m \u001b[0;34m=\u001b[0m \u001b[0;32mlambda\u001b[0m \u001b[0mx\u001b[0m\u001b[0;34m:\u001b[0m \u001b[0mget_silhouette_score\u001b[0m\u001b[0;34m(\u001b[0m\u001b[0mx\u001b[0m\u001b[0;34m.\u001b[0m\u001b[0mvalues\u001b[0m\u001b[0;34m)\u001b[0m\u001b[0;34m\u001b[0m\u001b[0;34m\u001b[0m\u001b[0m\n\u001b[1;32m     10\u001b[0m \u001b[0;34m\u001b[0m\u001b[0m\n\u001b[0;32m---> 11\u001b[0;31m \u001b[0mKDE\u001b[0m \u001b[0;34m=\u001b[0m  \u001b[0mdfg\u001b[0m\u001b[0;34m[\u001b[0m\u001b[0;34m'height'\u001b[0m\u001b[0;34m]\u001b[0m\u001b[0;34m.\u001b[0m\u001b[0mrolling\u001b[0m\u001b[0;34m(\u001b[0m\u001b[0;36m100\u001b[0m\u001b[0;34m)\u001b[0m\u001b[0;34m.\u001b[0m\u001b[0mapply\u001b[0m\u001b[0;34m(\u001b[0m\u001b[0mcluster_score\u001b[0m\u001b[0;34m)\u001b[0m\u001b[0;34m\u001b[0m\u001b[0;34m\u001b[0m\u001b[0m\n\u001b[0m",
      "\u001b[0;32m/srv/conda/envs/notebook/lib/python3.7/site-packages/pandas/core/window/rolling.py\u001b[0m in \u001b[0;36mapply\u001b[0;34m(self, func, raw, engine, engine_kwargs, args, kwargs)\u001b[0m\n\u001b[1;32m   1991\u001b[0m             \u001b[0mengine_kwargs\u001b[0m\u001b[0;34m=\u001b[0m\u001b[0mengine_kwargs\u001b[0m\u001b[0;34m,\u001b[0m\u001b[0;34m\u001b[0m\u001b[0;34m\u001b[0m\u001b[0m\n\u001b[1;32m   1992\u001b[0m             \u001b[0margs\u001b[0m\u001b[0;34m=\u001b[0m\u001b[0margs\u001b[0m\u001b[0;34m,\u001b[0m\u001b[0;34m\u001b[0m\u001b[0;34m\u001b[0m\u001b[0m\n\u001b[0;32m-> 1993\u001b[0;31m             \u001b[0mkwargs\u001b[0m\u001b[0;34m=\u001b[0m\u001b[0mkwargs\u001b[0m\u001b[0;34m,\u001b[0m\u001b[0;34m\u001b[0m\u001b[0;34m\u001b[0m\u001b[0m\n\u001b[0m\u001b[1;32m   1994\u001b[0m         )\n\u001b[1;32m   1995\u001b[0m \u001b[0;34m\u001b[0m\u001b[0m\n",
      "\u001b[0;32m/srv/conda/envs/notebook/lib/python3.7/site-packages/pandas/core/window/rolling.py\u001b[0m in \u001b[0;36mapply\u001b[0;34m(self, func, raw, engine, engine_kwargs, args, kwargs)\u001b[0m\n\u001b[1;32m   1306\u001b[0m             \u001b[0mraw\u001b[0m\u001b[0;34m=\u001b[0m\u001b[0mraw\u001b[0m\u001b[0;34m,\u001b[0m\u001b[0;34m\u001b[0m\u001b[0;34m\u001b[0m\u001b[0m\n\u001b[1;32m   1307\u001b[0m             \u001b[0margs\u001b[0m\u001b[0;34m=\u001b[0m\u001b[0margs\u001b[0m\u001b[0;34m,\u001b[0m\u001b[0;34m\u001b[0m\u001b[0;34m\u001b[0m\u001b[0m\n\u001b[0;32m-> 1308\u001b[0;31m             \u001b[0mkwargs\u001b[0m\u001b[0;34m=\u001b[0m\u001b[0mkwargs\u001b[0m\u001b[0;34m,\u001b[0m\u001b[0;34m\u001b[0m\u001b[0;34m\u001b[0m\u001b[0m\n\u001b[0m\u001b[1;32m   1309\u001b[0m         )\n\u001b[1;32m   1310\u001b[0m \u001b[0;34m\u001b[0m\u001b[0m\n",
      "\u001b[0;32m/srv/conda/envs/notebook/lib/python3.7/site-packages/pandas/core/window/rolling.py\u001b[0m in \u001b[0;36m_apply\u001b[0;34m(self, func, center, require_min_periods, floor, is_weighted, name, use_numba_cache, **kwargs)\u001b[0m\n\u001b[1;32m    505\u001b[0m                     \u001b[0mresult\u001b[0m \u001b[0;34m=\u001b[0m \u001b[0mnp\u001b[0m\u001b[0;34m.\u001b[0m\u001b[0mapply_along_axis\u001b[0m\u001b[0;34m(\u001b[0m\u001b[0mcalc\u001b[0m\u001b[0;34m,\u001b[0m \u001b[0mself\u001b[0m\u001b[0;34m.\u001b[0m\u001b[0maxis\u001b[0m\u001b[0;34m,\u001b[0m \u001b[0mvalues\u001b[0m\u001b[0;34m)\u001b[0m\u001b[0;34m\u001b[0m\u001b[0;34m\u001b[0m\u001b[0m\n\u001b[1;32m    506\u001b[0m                 \u001b[0;32melse\u001b[0m\u001b[0;34m:\u001b[0m\u001b[0;34m\u001b[0m\u001b[0;34m\u001b[0m\u001b[0m\n\u001b[0;32m--> 507\u001b[0;31m                     \u001b[0mresult\u001b[0m \u001b[0;34m=\u001b[0m \u001b[0mcalc\u001b[0m\u001b[0;34m(\u001b[0m\u001b[0mvalues\u001b[0m\u001b[0;34m)\u001b[0m\u001b[0;34m\u001b[0m\u001b[0;34m\u001b[0m\u001b[0m\n\u001b[0m\u001b[1;32m    508\u001b[0m                     \u001b[0mresult\u001b[0m \u001b[0;34m=\u001b[0m \u001b[0mnp\u001b[0m\u001b[0;34m.\u001b[0m\u001b[0masarray\u001b[0m\u001b[0;34m(\u001b[0m\u001b[0mresult\u001b[0m\u001b[0;34m)\u001b[0m\u001b[0;34m\u001b[0m\u001b[0;34m\u001b[0m\u001b[0m\n\u001b[1;32m    509\u001b[0m \u001b[0;34m\u001b[0m\u001b[0m\n",
      "\u001b[0;32m/srv/conda/envs/notebook/lib/python3.7/site-packages/pandas/core/window/rolling.py\u001b[0m in \u001b[0;36mcalc\u001b[0;34m(x)\u001b[0m\n\u001b[1;32m    493\u001b[0m                         \u001b[0mclosed\u001b[0m\u001b[0;34m=\u001b[0m\u001b[0mself\u001b[0m\u001b[0;34m.\u001b[0m\u001b[0mclosed\u001b[0m\u001b[0;34m,\u001b[0m\u001b[0;34m\u001b[0m\u001b[0;34m\u001b[0m\u001b[0m\n\u001b[1;32m    494\u001b[0m                     )\n\u001b[0;32m--> 495\u001b[0;31m                     \u001b[0;32mreturn\u001b[0m \u001b[0mfunc\u001b[0m\u001b[0;34m(\u001b[0m\u001b[0mx\u001b[0m\u001b[0;34m,\u001b[0m \u001b[0mstart\u001b[0m\u001b[0;34m,\u001b[0m \u001b[0mend\u001b[0m\u001b[0;34m,\u001b[0m \u001b[0mmin_periods\u001b[0m\u001b[0;34m)\u001b[0m\u001b[0;34m\u001b[0m\u001b[0;34m\u001b[0m\u001b[0m\n\u001b[0m\u001b[1;32m    496\u001b[0m \u001b[0;34m\u001b[0m\u001b[0m\n\u001b[1;32m    497\u001b[0m             \u001b[0;32melse\u001b[0m\u001b[0;34m:\u001b[0m\u001b[0;34m\u001b[0m\u001b[0;34m\u001b[0m\u001b[0m\n",
      "\u001b[0;32m/srv/conda/envs/notebook/lib/python3.7/site-packages/pandas/core/window/rolling.py\u001b[0m in \u001b[0;36mapply_func\u001b[0;34m(values, begin, end, min_periods, raw)\u001b[0m\n\u001b[1;32m   1324\u001b[0m             \u001b[0;32mif\u001b[0m \u001b[0;32mnot\u001b[0m \u001b[0mraw\u001b[0m\u001b[0;34m:\u001b[0m\u001b[0;34m\u001b[0m\u001b[0;34m\u001b[0m\u001b[0m\n\u001b[1;32m   1325\u001b[0m                 \u001b[0mvalues\u001b[0m \u001b[0;34m=\u001b[0m \u001b[0mSeries\u001b[0m\u001b[0;34m(\u001b[0m\u001b[0mvalues\u001b[0m\u001b[0;34m,\u001b[0m \u001b[0mindex\u001b[0m\u001b[0;34m=\u001b[0m\u001b[0mself\u001b[0m\u001b[0;34m.\u001b[0m\u001b[0mobj\u001b[0m\u001b[0;34m.\u001b[0m\u001b[0mindex\u001b[0m\u001b[0;34m)\u001b[0m\u001b[0;34m\u001b[0m\u001b[0;34m\u001b[0m\u001b[0m\n\u001b[0;32m-> 1326\u001b[0;31m             \u001b[0;32mreturn\u001b[0m \u001b[0mwindow_func\u001b[0m\u001b[0;34m(\u001b[0m\u001b[0mvalues\u001b[0m\u001b[0;34m,\u001b[0m \u001b[0mbegin\u001b[0m\u001b[0;34m,\u001b[0m \u001b[0mend\u001b[0m\u001b[0;34m,\u001b[0m \u001b[0mmin_periods\u001b[0m\u001b[0;34m)\u001b[0m\u001b[0;34m\u001b[0m\u001b[0;34m\u001b[0m\u001b[0m\n\u001b[0m\u001b[1;32m   1327\u001b[0m \u001b[0;34m\u001b[0m\u001b[0m\n\u001b[1;32m   1328\u001b[0m         \u001b[0;32mreturn\u001b[0m \u001b[0mapply_func\u001b[0m\u001b[0;34m\u001b[0m\u001b[0;34m\u001b[0m\u001b[0m\n",
      "\u001b[0;32mpandas/_libs/window/aggregations.pyx\u001b[0m in \u001b[0;36mpandas._libs.window.aggregations.roll_generic_fixed\u001b[0;34m()\u001b[0m\n",
      "\u001b[0;31mTypeError\u001b[0m: only size-1 arrays can be converted to Python scalars"
     ]
    }
   ],
   "source": [
    "def get_silhouette_score(x):\n",
    "    y  = np.arange(0,len(x))\n",
    "    X = np.array((x,y)).T\n",
    "    Xdist  = pairwise_distances(X, metric='manhattan')\n",
    "    kmeans = KMeans(n_clusters=2).fit(Xdist)\n",
    "    labels = kmeans.labels_\n",
    "    return sklearn.metrics.silhouette_samples(X,labels, metric='euclidean')\n",
    "     \n",
    "cluster_score = lambda x: get_silhouette_score(x.values)\n",
    "\n",
    "KDE =  dfg['height'].rolling(100).apply(cluster_score)\n"
   ]
  },
  {
   "cell_type": "code",
   "execution_count": null,
   "metadata": {},
   "outputs": [],
   "source": []
  },
  {
   "cell_type": "markdown",
   "metadata": {},
   "source": [
    "### 2.1.2 Cloudy tracks and singnal-finding blunders"
   ]
  },
  {
   "cell_type": "code",
   "execution_count": 14,
   "metadata": {},
   "outputs": [],
   "source": [
    "\n",
    "TEP=(D3['heights']['signal_conf_ph'][:,3] <-1)   \n",
    "BG=(D3['heights']['signal_conf_ph'][:,3] ==0)   |  (D3['heights']['signal_conf_ph'][:,3] ==1)\n",
    "LMH=D3['heights']['signal_conf_ph'][:,3] >= 2\n"
   ]
  },
  {
   "cell_type": "code",
   "execution_count": 15,
   "metadata": {},
   "outputs": [
    {
     "data": {
      "application/vnd.jupyter.widget-view+json": {
       "model_id": "3f6706eb6bd24db3929844f68e846f0f",
       "version_major": 2,
       "version_minor": 0
      },
      "text/plain": [
       "Canvas(toolbar=Toolbar(toolitems=[('Home', 'Reset original view', 'home', 'home'), ('Back', 'Back to previous …"
      ]
     },
     "metadata": {},
     "output_type": "display_data"
    },
    {
     "data": {
      "text/plain": [
       "[<matplotlib.lines.Line2D at 0x7f4128a1bcd0>]"
      ]
     },
     "execution_count": 15,
     "metadata": {},
     "output_type": "execute_result"
    }
   ],
   "source": [
    "%matplotlib widget\n",
    "plt.plot(D3['heights']['x_atc'][LMH], D3['heights']['h_ph'][LMH],'g.',markersize=0.5, label='flagged photons')\n"
   ]
  }
 ],
 "metadata": {
  "kernelspec": {
   "display_name": "Python [conda env:notebook] *",
   "language": "python",
   "name": "conda-env-notebook-py"
  },
  "language_info": {
   "codemirror_mode": {
    "name": "ipython",
    "version": 3
   },
   "file_extension": ".py",
   "mimetype": "text/x-python",
   "name": "python",
   "nbconvert_exporter": "python",
   "pygments_lexer": "ipython3",
   "version": "3.7.6"
  }
 },
 "nbformat": 4,
 "nbformat_minor": 4
}
