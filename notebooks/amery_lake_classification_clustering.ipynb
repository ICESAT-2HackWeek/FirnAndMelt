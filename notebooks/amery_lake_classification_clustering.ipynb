{
 "cells": [
  {
   "cell_type": "code",
   "execution_count": 1,
   "metadata": {},
   "outputs": [],
   "source": [
    "## Imports\n",
    "\n",
    "# utility modules\n",
    "import glob\n",
    "import os\n",
    "import sys\n",
    "import re\n",
    "import rasterio as rio\n",
    "\n",
    "\n",
    "# the usual suspects:\n",
    "import numpy as np\n",
    "import matplotlib.pyplot as plt\n",
    "import pandas as pd\n",
    "import geopandas as gpd\n",
    "import cartopy.crs as ccrs\n",
    "\n",
    "# specialty modules\n",
    "import h5py\n",
    "import pyproj\n",
    "import dask\n",
    "\n",
    "# run matplotlib in 'widget' mode\n",
    "%matplotlib widget\n",
    "%load_ext autoreload\n",
    "%autoreload 2"
   ]
  },
  {
   "cell_type": "code",
   "execution_count": 2,
   "metadata": {},
   "outputs": [
    {
     "name": "stdout",
     "output_type": "stream",
     "text": [
      "/home/jovyan\n"
     ]
    }
   ],
   "source": [
    "cd"
   ]
  },
  {
   "cell_type": "code",
   "execution_count": 3,
   "metadata": {},
   "outputs": [
    {
     "name": "stdout",
     "output_type": "stream",
     "text": [
      "/home/jovyan/Land_Ice_Applications/readers\n"
     ]
    }
   ],
   "source": [
    "cd Land_Ice_Applications/readers"
   ]
  },
  {
   "cell_type": "code",
   "execution_count": 4,
   "metadata": {},
   "outputs": [],
   "source": [
    "from read_HDF5_ATL03 import read_HDF5_ATL03\n",
    "from get_ATL03_x_atc import get_ATL03_x_atc"
   ]
  },
  {
   "cell_type": "markdown",
   "metadata": {},
   "source": [
    "### 1.2.2 Data used\n",
    "Data for this tutorial are stored in a shared drive, accessible to all tutorial participants.  If you're getting data for yourself, you'll need to put it in a consistent place, and change this cell to match your directory."
   ]
  },
  {
   "cell_type": "code",
   "execution_count": 5,
   "metadata": {},
   "outputs": [],
   "source": [
    "data_root='shared/FirnAndMelt/ATL03/Antarctica/'"
   ]
  },
  {
   "cell_type": "code",
   "execution_count": 6,
   "metadata": {},
   "outputs": [],
   "source": [
    "import cartopy.crs as ccrs\n",
    "from rasterio import plot"
   ]
  },
  {
   "cell_type": "markdown",
   "metadata": {},
   "source": [
    "# 2. Data in along-track format\n",
    "\n",
    "# 2.1 ATL03 elevations\n",
    "\n",
    "Before we start looking at the ATL06 data we've downloaded, let's have a look at some of the ATL03 data that were used to make them.  One of the source ATL03 files is in the shared folder, and we'll read it with Tyler Sutterley's excellent \"read_HDF5_ATL03\" function."
   ]
  },
  {
   "cell_type": "code",
   "execution_count": 7,
   "metadata": {},
   "outputs": [
    {
     "name": "stdout",
     "output_type": "stream",
     "text": [
      "/home/jovyan\n"
     ]
    }
   ],
   "source": [
    "cd "
   ]
  },
  {
   "cell_type": "code",
   "execution_count": 8,
   "metadata": {},
   "outputs": [
    {
     "name": "stdout",
     "output_type": "stream",
     "text": [
      "/srv/shared/FirnAndMelt/ATL03/Antarctica\n"
     ]
    }
   ],
   "source": [
    "cd 'shared/FirnAndMelt/ATL03/Antarctica/'"
   ]
  },
  {
   "cell_type": "code",
   "execution_count": 9,
   "metadata": {},
   "outputs": [],
   "source": [
    "# read the data:\n",
    "#rgt=\"0027\"\n",
    "#cycle=\"06\"\n",
    "# read the IS2 data with Tyler's ATL03 reader:\n",
    "ATL03_file=  'processed_ATL03_20200203123745_05920612_003_01.h5'\n",
    "IS2_atl03_mds, IS2_atl03_attrs, IS2_atl03_beams =read_HDF5_ATL03(ATL03_file)"
   ]
  },
  {
   "cell_type": "markdown",
   "metadata": {},
   "source": [
    "The data are returned in a set of dictionaries that mimic the structure of an ATL03 file.  To help visualize the data, we're going to calculate an along-track coordinate for every photon in the cloud (x_atc).  This is a slightly complex job, and there's a helper function in the readers directory that you can look at if you want the details."
   ]
  },
  {
   "cell_type": "code",
   "execution_count": 10,
   "metadata": {},
   "outputs": [],
   "source": [
    "# add x_atc to the ATL03 data structure (this function adds to the LS2_ATL03_mds dictionary)\n",
    "get_ATL03_x_atc(IS2_atl03_mds, IS2_atl03_attrs, IS2_atl03_beams)"
   ]
  },
  {
   "cell_type": "code",
   "execution_count": 11,
   "metadata": {},
   "outputs": [
    {
     "data": {
      "text/plain": [
       "{'heights': {'delta_time': array([65968768.88493214, 65968768.88493214, 65968768.88493214, ...,\n",
       "         65968780.56383242, 65968780.56383242, 65968780.56383242]),\n",
       "  'dist_ph_across': array([-52.62856 , -52.638065, -52.626698, ..., -59.818478, -59.819874,\n",
       "         -59.857765], dtype=float32),\n",
       "  'dist_ph_along': array([ 0.48488307,  0.4367691 ,  0.49435243, ..., 19.510641  ,\n",
       "         19.503958  , 19.32308   ], dtype=float32),\n",
       "  'h_ph': array([197.02295, 179.9768 , 200.36516, ..., 104.63813, 102.27638,\n",
       "          38.30188], dtype=float32),\n",
       "  'lat_ph': array([-72.49992335, -72.49992377, -72.49992327, ..., -71.76736058,\n",
       "         -71.76736064, -71.7673622 ]),\n",
       "  'lon_ph': array([68.32057214, 68.32057261, 68.32057205, ..., 67.99997189,\n",
       "         67.99997195, 67.99997371]),\n",
       "  'pce_mframe_cnt': array([72830108, 72830108, 72830108, ..., 72830692, 72830692, 72830692],\n",
       "        dtype=uint32),\n",
       "  'ph_id_channel': array([90, 87, 26, ..., 24, 35, 28], dtype=uint8),\n",
       "  'ph_id_count': array([1, 1, 1, ..., 2, 2, 2], dtype=int8),\n",
       "  'ph_id_pulse': array([200, 200, 200, ..., 189, 189, 189], dtype=uint8),\n",
       "  'signal_conf_ph': array([[ 0, -1, -1,  0,  0],\n",
       "         [ 0, -1, -1,  0,  0],\n",
       "         [ 0, -1, -1,  0,  0],\n",
       "         ...,\n",
       "         [ 4, -1, -1,  4,  4],\n",
       "         [ 2, -1, -1,  2,  2],\n",
       "         [ 0, -1, -1,  0,  0]], dtype=int8),\n",
       "  'x_atc': array([32053242., 32053242., 32053242., ..., 32135722., 32135722.,\n",
       "         32135722.], dtype=float32),\n",
       "  'y_atc': array([-52.62856 , -52.638065, -52.626698, ..., -59.818478, -59.819874,\n",
       "         -59.857765], dtype=float32)},\n",
       " 'geolocation': {'altitude_sc': array([509942.11266141, 509942.07212435, 509942.03158702, ...,\n",
       "         509769.90879279, 509769.86670261, 509769.82310901]),\n",
       "  'bounce_time_offset': array([0.0017006 , 0.0017006 , 0.0017006 , ..., 0.00170007, 0.00170007,\n",
       "         0.00170007], dtype=float32),\n",
       "  'delta_time': array([65968768.88633215, 65968768.88913215, 65968768.89193214, ...,\n",
       "         65968780.55683242, 65968780.55963242, 65968780.56253241]),\n",
       "  'full_sat_fract': array([0., 0., 0., ..., 0., 0., 0.], dtype=float32),\n",
       "  'near_sat_fract': array([0.        , 0.        , 0.03571429, ..., 0.        , 0.        ,\n",
       "         0.        ], dtype=float32),\n",
       "  'neutat_delay_derivative': array([-1.06883476e-07, -1.06883391e-07, -1.06883306e-07, ...,\n",
       "         -1.06561735e-07, -1.06561664e-07, -1.06561593e-07], dtype=float32),\n",
       "  'neutat_delay_total': array([2.3348196, 2.3347614, 2.3345993, ..., 2.3429682, 2.342971 ,\n",
       "         2.343011 ], dtype=float32),\n",
       "  'neutat_ht': array([118.74443 , 118.93941 , 119.483055, ..., 102.67166 , 102.66571 ,\n",
       "         102.53732 ], dtype=float32),\n",
       "  'ph_index_beg': array([      1,     387,     762, ..., 1265144, 1265449, 1265748]),\n",
       "  'podppd_flag': array([0, 0, 0, ..., 0, 0, 0], dtype=int8),\n",
       "  'range_bias_corr': array([3.7452, 3.7452, 3.7452, ..., 3.7452, 3.7452, 3.7452], dtype=float32),\n",
       "  'ref_azimuth': array([-0.32863894, -0.32854673, -0.32846195, ..., -0.33657554,\n",
       "         -0.3365333 , -0.33648348], dtype=float32),\n",
       "  'ref_elev': array([1.5678929, 1.567893 , 1.5678933, ..., 1.5678822, 1.5678822,\n",
       "         1.5678823], dtype=float32),\n",
       "  'reference_photon_index': array([202, 197, 210, ..., 160, 143, 186], dtype=int32),\n",
       "  'reference_photon_lat': array([-72.49983737, -72.49966152, -72.49948559, ..., -71.76780023,\n",
       "         -71.76762458, -71.76744239]),\n",
       "  'reference_photon_lon': array([68.3205324 , 68.32044854, 68.32036492, ..., 68.00016321,\n",
       "         68.00008708, 68.00000767]),\n",
       "  'segment_dist_x': array([32053241.340338  , 32053261.24814287, 32053281.15594798, ...,\n",
       "         32135661.63872116, 32135681.54749169, 32135701.45626245]),\n",
       "  'segment_id': array([1602295, 1602296, 1602297, ..., 1606435, 1606436, 1606437],\n",
       "        dtype=int32),\n",
       "  'segment_length': array([19.90780449, 19.90780449, 19.90780449, ..., 19.90876961,\n",
       "         19.90877151, 19.90877151]),\n",
       "  'segment_ph_cnt': array([386, 375, 416, ..., 305, 299, 343], dtype=int32),\n",
       "  'sigma_across': array([20., 20., 20., ..., 20., 20., 20.], dtype=float32),\n",
       "  'sigma_along': array([20., 20., 20., ..., 20., 20., 20.], dtype=float32),\n",
       "  'sigma_h': array([0.3, 0.3, 0.3, ..., 0.3, 0.3, 0.3], dtype=float32),\n",
       "  'sigma_lat': array([0.00018, 0.00018, 0.00018, ..., 0.00018, 0.00018, 0.00018],\n",
       "        dtype=float32),\n",
       "  'sigma_lon': array([0.00017488, 0.00017489, 0.00017489, ..., 0.00015908, 0.00015906,\n",
       "         0.00015905], dtype=float32),\n",
       "  'solar_azimuth': array([279.49292, 279.49292, 279.49292, ..., 279.48718, 279.48718,\n",
       "         279.48718], dtype=float32),\n",
       "  'solar_elevation': array([20.41159 , 20.411642, 20.411692, ..., 20.614027, 20.614075,\n",
       "         20.614126], dtype=float32),\n",
       "  'surf_type': array([[1, 0, 0, 1, 1],\n",
       "         [1, 0, 0, 1, 1],\n",
       "         [1, 0, 0, 1, 1],\n",
       "         ...,\n",
       "         [1, 0, 0, 1, 1],\n",
       "         [1, 0, 0, 1, 1],\n",
       "         [1, 0, 0, 1, 1]], dtype=int8),\n",
       "  'tx_pulse_energy': array([9.0526933e-05, 9.0530077e-05, 9.0533213e-05, ..., 9.1212045e-05,\n",
       "         9.1212045e-05, 9.1212045e-05], dtype=float32),\n",
       "  'tx_pulse_skew_est': array([-1.5706787e-10, -1.6062883e-10, -1.5010004e-10, ...,\n",
       "         -9.7905122e-11, -7.7717381e-11, -1.5779485e-10], dtype=float32),\n",
       "  'tx_pulse_width_lower': array([1.8346297e-09, 1.7477193e-09, 1.8344551e-09, ..., 1.7407832e-09,\n",
       "         1.8363765e-09, 1.8498142e-09], dtype=float32),\n",
       "  'tx_pulse_width_upper': array([8.7506791e-10, 8.6509144e-10, 8.6883439e-10, ..., 8.4879132e-10,\n",
       "         6.8408407e-10, 8.6877722e-10], dtype=float32),\n",
       "  'velocity_sc': array([[-953.176   , 6996.255   ,  -13.405674],\n",
       "         [-953.16956 , 6996.256   ,  -13.405799],\n",
       "         [-953.163   , 6996.257   ,  -13.405923],\n",
       "         ...,\n",
       "         [-927.331   , 7000.108   ,  -13.919611],\n",
       "         [-927.32513 , 7000.109   ,  -13.919733],\n",
       "         [-927.31903 , 7000.11    ,  -13.91986 ]], dtype=float32)},\n",
       " 'geophys_corr': {'dac': array([8.1924066e-02, 8.1919484e-02, 8.1914872e-02, ..., 3.4028235e+38,\n",
       "         3.4028235e+38, 3.4028235e+38], dtype=float32),\n",
       "  'delta_time': array([65968664.77652963, 65968664.77932962, 65968664.78212962, ...,\n",
       "         65969125.6191603 , 65969125.62197898, 65969125.62479766]),\n",
       "  'dem_flag': array([4, 4, 4, ..., 0, 0, 0], dtype=int8),\n",
       "  'dem_h': array([3.6677893e+03, 3.6675244e+03, 3.6672502e+03, ..., 3.4028235e+38,\n",
       "         3.4028235e+38, 3.4028235e+38], dtype=float32),\n",
       "  'geoid': array([6.7427101e+00, 6.7423768e+00, 6.7420411e+00, ..., 3.4028235e+38,\n",
       "         3.4028235e+38, 3.4028235e+38], dtype=float32),\n",
       "  'tide_earth': array([-1.3229278e-01, -1.3229288e-01, -1.3229297e-01, ...,\n",
       "          3.4028235e+38,  3.4028235e+38,  3.4028235e+38], dtype=float32),\n",
       "  'tide_equilibrium': array([3.4028235e+38, 3.4028235e+38, 3.4028235e+38, ..., 3.4028235e+38,\n",
       "         3.4028235e+38, 3.4028235e+38], dtype=float32),\n",
       "  'tide_load': array([-5.4375962e-03, -5.4376638e-03, -5.4377317e-03, ...,\n",
       "          3.4028235e+38,  3.4028235e+38,  3.4028235e+38], dtype=float32),\n",
       "  'tide_oc_pole': array([4.5814013e-05, 4.5816385e-05, 4.5818771e-05, ..., 3.4028235e+38,\n",
       "         3.4028235e+38, 3.4028235e+38], dtype=float32),\n",
       "  'tide_ocean': array([3.4028235e+38, 3.4028235e+38, 3.4028235e+38, ..., 3.4028235e+38,\n",
       "         3.4028235e+38, 3.4028235e+38], dtype=float32),\n",
       "  'tide_pole': array([-1.4988875e-03, -1.4989099e-03, -1.4989324e-03, ...,\n",
       "          3.4028235e+38,  3.4028235e+38,  3.4028235e+38], dtype=float32)}}"
      ]
     },
     "execution_count": 11,
     "metadata": {},
     "output_type": "execute_result"
    }
   ],
   "source": [
    "IS2_atl03_mds['gt2r']"
   ]
  },
  {
   "cell_type": "code",
   "execution_count": 12,
   "metadata": {},
   "outputs": [
    {
     "data": {
      "text/html": [
       "<div>\n",
       "<style scoped>\n",
       "    .dataframe tbody tr th:only-of-type {\n",
       "        vertical-align: middle;\n",
       "    }\n",
       "\n",
       "    .dataframe tbody tr th {\n",
       "        vertical-align: top;\n",
       "    }\n",
       "\n",
       "    .dataframe thead th {\n",
       "        text-align: right;\n",
       "    }\n",
       "</style>\n",
       "<table border=\"1\" class=\"dataframe\">\n",
       "  <thead>\n",
       "    <tr style=\"text-align: right;\">\n",
       "      <th></th>\n",
       "      <th>height</th>\n",
       "      <th>lat</th>\n",
       "      <th>lon</th>\n",
       "      <th>distance_along</th>\n",
       "      <th>signal_conf</th>\n",
       "    </tr>\n",
       "  </thead>\n",
       "  <tbody>\n",
       "    <tr>\n",
       "      <th>6.596877e+07</th>\n",
       "      <td>197.022949</td>\n",
       "      <td>-72.499923</td>\n",
       "      <td>68.320572</td>\n",
       "      <td>0.484883</td>\n",
       "      <td>False</td>\n",
       "    </tr>\n",
       "    <tr>\n",
       "      <th>6.596877e+07</th>\n",
       "      <td>179.976807</td>\n",
       "      <td>-72.499924</td>\n",
       "      <td>68.320573</td>\n",
       "      <td>0.436769</td>\n",
       "      <td>False</td>\n",
       "    </tr>\n",
       "    <tr>\n",
       "      <th>6.596877e+07</th>\n",
       "      <td>200.365158</td>\n",
       "      <td>-72.499923</td>\n",
       "      <td>68.320572</td>\n",
       "      <td>0.494352</td>\n",
       "      <td>False</td>\n",
       "    </tr>\n",
       "    <tr>\n",
       "      <th>6.596877e+07</th>\n",
       "      <td>172.272217</td>\n",
       "      <td>-72.499924</td>\n",
       "      <td>68.320573</td>\n",
       "      <td>0.414983</td>\n",
       "      <td>False</td>\n",
       "    </tr>\n",
       "    <tr>\n",
       "      <th>6.596877e+07</th>\n",
       "      <td>167.983429</td>\n",
       "      <td>-72.499924</td>\n",
       "      <td>68.320573</td>\n",
       "      <td>0.402877</td>\n",
       "      <td>False</td>\n",
       "    </tr>\n",
       "    <tr>\n",
       "      <th>...</th>\n",
       "      <td>...</td>\n",
       "      <td>...</td>\n",
       "      <td>...</td>\n",
       "      <td>...</td>\n",
       "      <td>...</td>\n",
       "    </tr>\n",
       "    <tr>\n",
       "      <th>6.596878e+07</th>\n",
       "      <td>104.653831</td>\n",
       "      <td>-71.767361</td>\n",
       "      <td>67.999972</td>\n",
       "      <td>19.510685</td>\n",
       "      <td>True</td>\n",
       "    </tr>\n",
       "    <tr>\n",
       "      <th>6.596878e+07</th>\n",
       "      <td>102.633972</td>\n",
       "      <td>-71.767361</td>\n",
       "      <td>67.999972</td>\n",
       "      <td>19.504976</td>\n",
       "      <td>True</td>\n",
       "    </tr>\n",
       "    <tr>\n",
       "      <th>6.596878e+07</th>\n",
       "      <td>104.638130</td>\n",
       "      <td>-71.767361</td>\n",
       "      <td>67.999972</td>\n",
       "      <td>19.510641</td>\n",
       "      <td>True</td>\n",
       "    </tr>\n",
       "    <tr>\n",
       "      <th>6.596878e+07</th>\n",
       "      <td>102.276382</td>\n",
       "      <td>-71.767361</td>\n",
       "      <td>67.999972</td>\n",
       "      <td>19.503958</td>\n",
       "      <td>True</td>\n",
       "    </tr>\n",
       "    <tr>\n",
       "      <th>6.596878e+07</th>\n",
       "      <td>38.301880</td>\n",
       "      <td>-71.767362</td>\n",
       "      <td>67.999974</td>\n",
       "      <td>19.323080</td>\n",
       "      <td>False</td>\n",
       "    </tr>\n",
       "  </tbody>\n",
       "</table>\n",
       "<p>1266090 rows × 5 columns</p>\n",
       "</div>"
      ],
      "text/plain": [
       "                  height        lat        lon  distance_along  signal_conf\n",
       "6.596877e+07  197.022949 -72.499923  68.320572        0.484883        False\n",
       "6.596877e+07  179.976807 -72.499924  68.320573        0.436769        False\n",
       "6.596877e+07  200.365158 -72.499923  68.320572        0.494352        False\n",
       "6.596877e+07  172.272217 -72.499924  68.320573        0.414983        False\n",
       "6.596877e+07  167.983429 -72.499924  68.320573        0.402877        False\n",
       "...                  ...        ...        ...             ...          ...\n",
       "6.596878e+07  104.653831 -71.767361  67.999972       19.510685         True\n",
       "6.596878e+07  102.633972 -71.767361  67.999972       19.504976         True\n",
       "6.596878e+07  104.638130 -71.767361  67.999972       19.510641         True\n",
       "6.596878e+07  102.276382 -71.767361  67.999972       19.503958         True\n",
       "6.596878e+07   38.301880 -71.767362  67.999974       19.323080        False\n",
       "\n",
       "[1266090 rows x 5 columns]"
      ]
     },
     "execution_count": 12,
     "metadata": {},
     "output_type": "execute_result"
    }
   ],
   "source": [
    "df = pd.DataFrame(data={'height':IS2_atl03_mds['gt2r']['heights']['h_ph'],\n",
    "                        'lat':  IS2_atl03_mds['gt2r']['heights']['lat_ph'],\n",
    "                        'lon':  IS2_atl03_mds['gt2r']['heights']['lon_ph'],\n",
    "                        'distance_along': IS2_atl03_mds['gt2r']['heights']['dist_ph_along'],\n",
    "                        'signal_conf': IS2_atl03_mds['gt2r']['heights']['signal_conf_ph'][:,3] >= 2\n",
    "                       },\n",
    "                  index=IS2_atl03_mds['gt2r']['heights']['delta_time'])\n",
    "df"
   ]
  },
  {
   "cell_type": "markdown",
   "metadata": {},
   "source": [
    "### 2.1.1 Plotting ATL03 photons\n",
    "Now let's plot the ATL03 photons.  We'll plot all the photon heights as small black dots, then plot the photons that the ATL03 land-ice signal finder designates as surface (with low, medium, or high confidence) in green.  "
   ]
  },
  {
   "cell_type": "code",
   "execution_count": 13,
   "metadata": {},
   "outputs": [
    {
     "data": {
      "application/vnd.jupyter.widget-view+json": {
       "model_id": "e5e2d6364e664c8ea56d4fc2c34d98d7",
       "version_major": 2,
       "version_minor": 0
      },
      "text/plain": [
       "Canvas(toolbar=Toolbar(toolitems=[('Home', 'Reset original view', 'home', 'home'), ('Back', 'Back to previous …"
      ]
     },
     "metadata": {},
     "output_type": "display_data"
    }
   ],
   "source": [
    "#-- select the 2l beam from ATL03\n",
    "D3 = IS2_atl03_mds['gt2r']\n",
    "\n",
    "#-- create scatter plot of photon data (e.g., photon elevation vs x_atc)\n",
    "fig=plt.figure(figsize=(6,4))\n",
    "ax = fig.add_subplot(111)\n",
    "#ax.plot(D3['heights']['lat_ph'], D3['heights']['h_ph'],'k.',markersize=0.25, label='all photons')\n",
    "LMH=D3['heights']['signal_conf_ph'][:,3] >= 2\n",
    "ax.plot(D3['heights']['lat_ph'][LMH][, D3['heights']['h_ph'][LMH],'g.',markersize=0.5, label='flagged photons')\n",
    "h_leg=ax.legend()\n",
    "\n",
    "ax.set_xlabel('lat (deg)')\n",
    "ax.set_ylabel('h, m')\n",
    "plt.show()"
   ]
  },
  {
   "cell_type": "code",
   "execution_count": 14,
   "metadata": {},
   "outputs": [],
   "source": [
    "dfg  = gpd.GeoDataFrame(df, geometry=gpd.points_from_xy(df['lon'], df['lat']), crs='EPSG:4326')"
   ]
  },
  {
   "cell_type": "code",
   "execution_count": 15,
   "metadata": {},
   "outputs": [],
   "source": [
    "dfg_sel = dfg[dfg['signal_conf']==True]"
   ]
  },
  {
   "cell_type": "code",
   "execution_count": 16,
   "metadata": {},
   "outputs": [
    {
     "data": {
      "text/html": [
       "<div>\n",
       "<style scoped>\n",
       "    .dataframe tbody tr th:only-of-type {\n",
       "        vertical-align: middle;\n",
       "    }\n",
       "\n",
       "    .dataframe tbody tr th {\n",
       "        vertical-align: top;\n",
       "    }\n",
       "\n",
       "    .dataframe thead th {\n",
       "        text-align: right;\n",
       "    }\n",
       "</style>\n",
       "<table border=\"1\" class=\"dataframe\">\n",
       "  <thead>\n",
       "    <tr style=\"text-align: right;\">\n",
       "      <th></th>\n",
       "      <th>height</th>\n",
       "      <th>lat</th>\n",
       "      <th>lon</th>\n",
       "      <th>distance_along</th>\n",
       "      <th>signal_conf</th>\n",
       "      <th>geometry</th>\n",
       "    </tr>\n",
       "  </thead>\n",
       "  <tbody>\n",
       "    <tr>\n",
       "      <th>6.596877e+07</th>\n",
       "      <td>121.134857</td>\n",
       "      <td>-72.499925</td>\n",
       "      <td>68.320574</td>\n",
       "      <td>0.270575</td>\n",
       "      <td>True</td>\n",
       "      <td>POINT (68.32057 -72.49993)</td>\n",
       "    </tr>\n",
       "    <tr>\n",
       "      <th>6.596877e+07</th>\n",
       "      <td>121.033951</td>\n",
       "      <td>-72.499925</td>\n",
       "      <td>68.320574</td>\n",
       "      <td>0.270293</td>\n",
       "      <td>True</td>\n",
       "      <td>POINT (68.32057 -72.49993)</td>\n",
       "    </tr>\n",
       "    <tr>\n",
       "      <th>6.596877e+07</th>\n",
       "      <td>121.355598</td>\n",
       "      <td>-72.499925</td>\n",
       "      <td>68.320574</td>\n",
       "      <td>0.271208</td>\n",
       "      <td>True</td>\n",
       "      <td>POINT (68.32057 -72.49993)</td>\n",
       "    </tr>\n",
       "    <tr>\n",
       "      <th>6.596877e+07</th>\n",
       "      <td>121.097557</td>\n",
       "      <td>-72.499925</td>\n",
       "      <td>68.320574</td>\n",
       "      <td>0.270468</td>\n",
       "      <td>True</td>\n",
       "      <td>POINT (68.32057 -72.49993)</td>\n",
       "    </tr>\n",
       "    <tr>\n",
       "      <th>6.596877e+07</th>\n",
       "      <td>121.336502</td>\n",
       "      <td>-72.499925</td>\n",
       "      <td>68.320574</td>\n",
       "      <td>0.271152</td>\n",
       "      <td>True</td>\n",
       "      <td>POINT (68.32057 -72.49993)</td>\n",
       "    </tr>\n",
       "    <tr>\n",
       "      <th>...</th>\n",
       "      <td>...</td>\n",
       "      <td>...</td>\n",
       "      <td>...</td>\n",
       "      <td>...</td>\n",
       "      <td>...</td>\n",
       "      <td>...</td>\n",
       "    </tr>\n",
       "    <tr>\n",
       "      <th>6.596878e+07</th>\n",
       "      <td>104.913750</td>\n",
       "      <td>-71.767361</td>\n",
       "      <td>67.999972</td>\n",
       "      <td>19.511423</td>\n",
       "      <td>True</td>\n",
       "      <td>POINT (67.99997 -71.76736)</td>\n",
       "    </tr>\n",
       "    <tr>\n",
       "      <th>6.596878e+07</th>\n",
       "      <td>104.653831</td>\n",
       "      <td>-71.767361</td>\n",
       "      <td>67.999972</td>\n",
       "      <td>19.510685</td>\n",
       "      <td>True</td>\n",
       "      <td>POINT (67.99997 -71.76736)</td>\n",
       "    </tr>\n",
       "    <tr>\n",
       "      <th>6.596878e+07</th>\n",
       "      <td>102.633972</td>\n",
       "      <td>-71.767361</td>\n",
       "      <td>67.999972</td>\n",
       "      <td>19.504976</td>\n",
       "      <td>True</td>\n",
       "      <td>POINT (67.99997 -71.76736)</td>\n",
       "    </tr>\n",
       "    <tr>\n",
       "      <th>6.596878e+07</th>\n",
       "      <td>104.638130</td>\n",
       "      <td>-71.767361</td>\n",
       "      <td>67.999972</td>\n",
       "      <td>19.510641</td>\n",
       "      <td>True</td>\n",
       "      <td>POINT (67.99997 -71.76736)</td>\n",
       "    </tr>\n",
       "    <tr>\n",
       "      <th>6.596878e+07</th>\n",
       "      <td>102.276382</td>\n",
       "      <td>-71.767361</td>\n",
       "      <td>67.999972</td>\n",
       "      <td>19.503958</td>\n",
       "      <td>True</td>\n",
       "      <td>POINT (67.99997 -71.76736)</td>\n",
       "    </tr>\n",
       "  </tbody>\n",
       "</table>\n",
       "<p>697218 rows × 6 columns</p>\n",
       "</div>"
      ],
      "text/plain": [
       "                  height        lat        lon  distance_along  signal_conf  \\\n",
       "6.596877e+07  121.134857 -72.499925  68.320574        0.270575         True   \n",
       "6.596877e+07  121.033951 -72.499925  68.320574        0.270293         True   \n",
       "6.596877e+07  121.355598 -72.499925  68.320574        0.271208         True   \n",
       "6.596877e+07  121.097557 -72.499925  68.320574        0.270468         True   \n",
       "6.596877e+07  121.336502 -72.499925  68.320574        0.271152         True   \n",
       "...                  ...        ...        ...             ...          ...   \n",
       "6.596878e+07  104.913750 -71.767361  67.999972       19.511423         True   \n",
       "6.596878e+07  104.653831 -71.767361  67.999972       19.510685         True   \n",
       "6.596878e+07  102.633972 -71.767361  67.999972       19.504976         True   \n",
       "6.596878e+07  104.638130 -71.767361  67.999972       19.510641         True   \n",
       "6.596878e+07  102.276382 -71.767361  67.999972       19.503958         True   \n",
       "\n",
       "                                geometry  \n",
       "6.596877e+07  POINT (68.32057 -72.49993)  \n",
       "6.596877e+07  POINT (68.32057 -72.49993)  \n",
       "6.596877e+07  POINT (68.32057 -72.49993)  \n",
       "6.596877e+07  POINT (68.32057 -72.49993)  \n",
       "6.596877e+07  POINT (68.32057 -72.49993)  \n",
       "...                                  ...  \n",
       "6.596878e+07  POINT (67.99997 -71.76736)  \n",
       "6.596878e+07  POINT (67.99997 -71.76736)  \n",
       "6.596878e+07  POINT (67.99997 -71.76736)  \n",
       "6.596878e+07  POINT (67.99997 -71.76736)  \n",
       "6.596878e+07  POINT (67.99997 -71.76736)  \n",
       "\n",
       "[697218 rows x 6 columns]"
      ]
     },
     "execution_count": 16,
     "metadata": {},
     "output_type": "execute_result"
    }
   ],
   "source": [
    "dfg_sel"
   ]
  },
  {
   "cell_type": "code",
   "execution_count": 25,
   "metadata": {},
   "outputs": [
    {
     "data": {
      "application/vnd.jupyter.widget-view+json": {
       "model_id": "445eb72d2b3e4cfeb094b8768611e6ee",
       "version_major": 2,
       "version_minor": 0
      },
      "text/plain": [
       "Canvas(toolbar=Toolbar(toolitems=[('Home', 'Reset original view', 'home', 'home'), ('Back', 'Back to previous …"
      ]
     },
     "metadata": {},
     "output_type": "display_data"
    },
    {
     "data": {
      "text/plain": [
       "Text(0.5, 1.0, 'Photon Height (m)')"
      ]
     },
     "execution_count": 25,
     "metadata": {},
     "output_type": "execute_result"
    }
   ],
   "source": [
    "#bimodal_coeff =  (dfg_sel['height'].rolling(100).skew()**2+1)/dfg_sel['height'].rolling(100).kurt()\n",
    "max_outlier = (dfg_sel['height'].rolling(100).max()-dfg_sel['height'].rolling(100).mean())/dfg_sel['height'].rolling(100).std()\n",
    "min_outlier = (dfg_sel['height'].rolling(100).mean()-dfg_sel['height'].rolling(100).min())/dfg_sel['height'].rolling(100).std()\n",
    "\n",
    "variance =  dfg_sel['height'].rolling(100).var()\n",
    "\n",
    "fig, ax  = plt.subplots(nrows=3, figsize=(10,10))\n",
    "ax[0].plot(dfg_sel['lat'].rolling(100).mean(),dfg_sel['height'].rolling(100).var())\n",
    "ax[0].set_title('Variance')\n",
    "ax[1].plot(dfg_sel['lat'].rolling(100).mean(),max_outlier)\n",
    "ax[1].set_title('Grubb`s Test for Outliers')\n",
    "ax[2].plot(dfg_sel['lat'],dfg_sel['height']);\n",
    "ax[2].set_title('Photon Height (m)')\n"
   ]
  },
  {
   "cell_type": "code",
   "execution_count": 26,
   "metadata": {},
   "outputs": [
    {
     "data": {
      "application/vnd.jupyter.widget-view+json": {
       "model_id": "93e058a549cb4736aa747232a8a0f50a",
       "version_major": 2,
       "version_minor": 0
      },
      "text/plain": [
       "Canvas(toolbar=Toolbar(toolitems=[('Home', 'Reset original view', 'home', 'home'), ('Back', 'Back to previous …"
      ]
     },
     "metadata": {},
     "output_type": "display_data"
    },
    {
     "data": {
      "text/plain": [
       "<matplotlib.collections.PathCollection at 0x7f972c0d2190>"
      ]
     },
     "execution_count": 26,
     "metadata": {},
     "output_type": "execute_result"
    }
   ],
   "source": [
    "fig, ax = plt.subplots()\n",
    "\n",
    "ax.scatter(min_outlier,max_outlier,s=1)"
   ]
  },
  {
   "cell_type": "code",
   "execution_count": 17,
   "metadata": {},
   "outputs": [],
   "source": [
    "from sklearn.cluster import KMeans\n",
    "import sklearn.metrics \n",
    "from sklearn.metrics import pairwise_distances\n"
   ]
  },
  {
   "cell_type": "code",
   "execution_count": 18,
   "metadata": {},
   "outputs": [],
   "source": [
    "def get_silhouette_score(X):\n",
    "    Xdist = pairwise_distances(X)\n",
    "    kmeans = KMeans(n_clusters=2).fit(Xdist)\n",
    "    labels = kmeans.labels_\n",
    "    return sklearn.metrics.silhouette_score(X,labels, metric='euclidean')\n",
    "     \n",
    "\n"
   ]
  },
  {
   "cell_type": "code",
   "execution_count": 21,
   "metadata": {},
   "outputs": [
    {
     "data": {
      "text/plain": [
       "0.5991076"
      ]
     },
     "execution_count": 21,
     "metadata": {},
     "output_type": "execute_result"
    }
   ],
   "source": [
    "get_silhouette_score(X[50:1050])"
   ]
  },
  {
   "cell_type": "code",
   "execution_count": 49,
   "metadata": {},
   "outputs": [],
   "source": [
    "subset  = dfg_sel[dfg_sel['lat']<(-72.3)]\n",
    "subset  =  subset[subset['lat']>-72.4]"
   ]
  },
  {
   "cell_type": "code",
   "execution_count": 50,
   "metadata": {},
   "outputs": [
    {
     "data": {
      "text/html": [
       "<div>\n",
       "<style scoped>\n",
       "    .dataframe tbody tr th:only-of-type {\n",
       "        vertical-align: middle;\n",
       "    }\n",
       "\n",
       "    .dataframe tbody tr th {\n",
       "        vertical-align: top;\n",
       "    }\n",
       "\n",
       "    .dataframe thead th {\n",
       "        text-align: right;\n",
       "    }\n",
       "</style>\n",
       "<table border=\"1\" class=\"dataframe\">\n",
       "  <thead>\n",
       "    <tr style=\"text-align: right;\">\n",
       "      <th></th>\n",
       "      <th>height</th>\n",
       "      <th>lat</th>\n",
       "      <th>lon</th>\n",
       "      <th>distance_along</th>\n",
       "      <th>signal_conf</th>\n",
       "      <th>geometry</th>\n",
       "    </tr>\n",
       "  </thead>\n",
       "  <tbody>\n",
       "    <tr>\n",
       "      <th>6.596877e+07</th>\n",
       "      <td>136.861130</td>\n",
       "      <td>-72.399997</td>\n",
       "      <td>68.275495</td>\n",
       "      <td>6.252609</td>\n",
       "      <td>True</td>\n",
       "      <td>POINT (68.27550 -72.40000)</td>\n",
       "    </tr>\n",
       "    <tr>\n",
       "      <th>6.596877e+07</th>\n",
       "      <td>137.008133</td>\n",
       "      <td>-72.399997</td>\n",
       "      <td>68.275495</td>\n",
       "      <td>6.253027</td>\n",
       "      <td>True</td>\n",
       "      <td>POINT (68.27550 -72.40000)</td>\n",
       "    </tr>\n",
       "    <tr>\n",
       "      <th>6.596877e+07</th>\n",
       "      <td>137.028610</td>\n",
       "      <td>-72.399997</td>\n",
       "      <td>68.275495</td>\n",
       "      <td>6.253089</td>\n",
       "      <td>True</td>\n",
       "      <td>POINT (68.27549 -72.40000)</td>\n",
       "    </tr>\n",
       "    <tr>\n",
       "      <th>6.596877e+07</th>\n",
       "      <td>137.201370</td>\n",
       "      <td>-72.399997</td>\n",
       "      <td>68.275495</td>\n",
       "      <td>6.253581</td>\n",
       "      <td>True</td>\n",
       "      <td>POINT (68.27549 -72.40000)</td>\n",
       "    </tr>\n",
       "    <tr>\n",
       "      <th>6.596877e+07</th>\n",
       "      <td>136.931061</td>\n",
       "      <td>-72.399997</td>\n",
       "      <td>68.275495</td>\n",
       "      <td>6.252812</td>\n",
       "      <td>True</td>\n",
       "      <td>POINT (68.27550 -72.40000)</td>\n",
       "    </tr>\n",
       "    <tr>\n",
       "      <th>...</th>\n",
       "      <td>...</td>\n",
       "      <td>...</td>\n",
       "      <td>...</td>\n",
       "      <td>...</td>\n",
       "      <td>...</td>\n",
       "      <td>...</td>\n",
       "    </tr>\n",
       "    <tr>\n",
       "      <th>6.596877e+07</th>\n",
       "      <td>145.142181</td>\n",
       "      <td>-72.300002</td>\n",
       "      <td>68.230838</td>\n",
       "      <td>18.641714</td>\n",
       "      <td>True</td>\n",
       "      <td>POINT (68.23084 -72.30000)</td>\n",
       "    </tr>\n",
       "    <tr>\n",
       "      <th>6.596877e+07</th>\n",
       "      <td>145.717163</td>\n",
       "      <td>-72.300002</td>\n",
       "      <td>68.230838</td>\n",
       "      <td>18.643297</td>\n",
       "      <td>True</td>\n",
       "      <td>POINT (68.23084 -72.30000)</td>\n",
       "    </tr>\n",
       "    <tr>\n",
       "      <th>6.596877e+07</th>\n",
       "      <td>143.861649</td>\n",
       "      <td>-72.300002</td>\n",
       "      <td>68.230838</td>\n",
       "      <td>18.638069</td>\n",
       "      <td>True</td>\n",
       "      <td>POINT (68.23084 -72.30000)</td>\n",
       "    </tr>\n",
       "    <tr>\n",
       "      <th>6.596877e+07</th>\n",
       "      <td>145.289093</td>\n",
       "      <td>-72.300002</td>\n",
       "      <td>68.230838</td>\n",
       "      <td>18.642136</td>\n",
       "      <td>True</td>\n",
       "      <td>POINT (68.23084 -72.30000)</td>\n",
       "    </tr>\n",
       "    <tr>\n",
       "      <th>6.596877e+07</th>\n",
       "      <td>145.187164</td>\n",
       "      <td>-72.300002</td>\n",
       "      <td>68.230838</td>\n",
       "      <td>18.641846</td>\n",
       "      <td>True</td>\n",
       "      <td>POINT (68.23084 -72.30000)</td>\n",
       "    </tr>\n",
       "  </tbody>\n",
       "</table>\n",
       "<p>94734 rows × 6 columns</p>\n",
       "</div>"
      ],
      "text/plain": [
       "                  height        lat        lon  distance_along  signal_conf  \\\n",
       "6.596877e+07  136.861130 -72.399997  68.275495        6.252609         True   \n",
       "6.596877e+07  137.008133 -72.399997  68.275495        6.253027         True   \n",
       "6.596877e+07  137.028610 -72.399997  68.275495        6.253089         True   \n",
       "6.596877e+07  137.201370 -72.399997  68.275495        6.253581         True   \n",
       "6.596877e+07  136.931061 -72.399997  68.275495        6.252812         True   \n",
       "...                  ...        ...        ...             ...          ...   \n",
       "6.596877e+07  145.142181 -72.300002  68.230838       18.641714         True   \n",
       "6.596877e+07  145.717163 -72.300002  68.230838       18.643297         True   \n",
       "6.596877e+07  143.861649 -72.300002  68.230838       18.638069         True   \n",
       "6.596877e+07  145.289093 -72.300002  68.230838       18.642136         True   \n",
       "6.596877e+07  145.187164 -72.300002  68.230838       18.641846         True   \n",
       "\n",
       "                                geometry  \n",
       "6.596877e+07  POINT (68.27550 -72.40000)  \n",
       "6.596877e+07  POINT (68.27550 -72.40000)  \n",
       "6.596877e+07  POINT (68.27549 -72.40000)  \n",
       "6.596877e+07  POINT (68.27549 -72.40000)  \n",
       "6.596877e+07  POINT (68.27550 -72.40000)  \n",
       "...                                  ...  \n",
       "6.596877e+07  POINT (68.23084 -72.30000)  \n",
       "6.596877e+07  POINT (68.23084 -72.30000)  \n",
       "6.596877e+07  POINT (68.23084 -72.30000)  \n",
       "6.596877e+07  POINT (68.23084 -72.30000)  \n",
       "6.596877e+07  POINT (68.23084 -72.30000)  \n",
       "\n",
       "[94734 rows x 6 columns]"
      ]
     },
     "execution_count": 50,
     "metadata": {},
     "output_type": "execute_result"
    }
   ],
   "source": [
    "subset"
   ]
  },
  {
   "cell_type": "code",
   "execution_count": 51,
   "metadata": {},
   "outputs": [],
   "source": [
    "height_array = subset['height'].values\n",
    "dist_array = subset['distance_along'].values\n"
   ]
  },
  {
   "cell_type": "code",
   "execution_count": 52,
   "metadata": {},
   "outputs": [],
   "source": [
    "X = np.array((height_array, dist_array)).T\n"
   ]
  },
  {
   "cell_type": "code",
   "execution_count": 57,
   "metadata": {},
   "outputs": [
    {
     "data": {
      "text/plain": [
       "0.61292464"
      ]
     },
     "execution_count": 57,
     "metadata": {},
     "output_type": "execute_result"
    }
   ],
   "source": [
    "get_silhouette_score(X[0:1000])"
   ]
  },
  {
   "cell_type": "code",
   "execution_count": 80,
   "metadata": {},
   "outputs": [],
   "source": [
    "silhouette = [0]\n",
    "win_size = 500\n",
    "for i in np.arange(0,int(len(height_array)-win_size/2),int(win_size/2)):\n",
    "    window = X[i:i+win_size]\n",
    "    score  = get_silhouette_score(window)\n",
    "    silhouette  = np.append(silhouette, score)"
   ]
  },
  {
   "cell_type": "code",
   "execution_count": 83,
   "metadata": {},
   "outputs": [
    {
     "name": "stderr",
     "output_type": "stream",
     "text": [
      "/srv/conda/envs/notebook/lib/python3.7/site-packages/ipykernel_launcher.py:1: RuntimeWarning: More than 20 figures have been opened. Figures created through the pyplot interface (`matplotlib.pyplot.figure`) are retained until explicitly closed and may consume too much memory. (To control this warning, see the rcParam `figure.max_open_warning`).\n",
      "  \"\"\"Entry point for launching an IPython kernel.\n"
     ]
    },
    {
     "data": {
      "application/vnd.jupyter.widget-view+json": {
       "model_id": "4fbb6bfb106d42268b2c49a868322824",
       "version_major": 2,
       "version_minor": 0
      },
      "text/plain": [
       "Canvas(toolbar=Toolbar(toolitems=[('Home', 'Reset original view', 'home', 'home'), ('Back', 'Back to previous …"
      ]
     },
     "metadata": {},
     "output_type": "display_data"
    },
    {
     "data": {
      "text/plain": [
       "Text(0.5, 1.0, 'height (m)')"
      ]
     },
     "execution_count": 83,
     "metadata": {},
     "output_type": "execute_result"
    }
   ],
   "source": [
    "fig, ax  = plt.subplots(nrows=2,  figsize=(5,10))\n",
    "ax[0].plot(silhouette[1:])\n",
    "ax[0].set_title('Silhouette Score of Cluster Tightness')\n",
    "ax[1].plot(subset['height'])\n",
    "ax[1].set_title('height (m)')"
   ]
  },
  {
   "cell_type": "code",
   "execution_count": null,
   "metadata": {},
   "outputs": [],
   "source": []
  }
 ],
 "metadata": {
  "kernelspec": {
   "display_name": "Python [conda env:notebook] *",
   "language": "python",
   "name": "conda-env-notebook-py"
  },
  "language_info": {
   "codemirror_mode": {
    "name": "ipython",
    "version": 3
   },
   "file_extension": ".py",
   "mimetype": "text/x-python",
   "name": "python",
   "nbconvert_exporter": "python",
   "pygments_lexer": "ipython3",
   "version": "3.7.6"
  }
 },
 "nbformat": 4,
 "nbformat_minor": 4
}
